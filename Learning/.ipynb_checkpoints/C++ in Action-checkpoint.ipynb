{
 "cells": [
  {
   "cell_type": "markdown",
   "id": "f55c4f8e-738d-4161-ad89-46de931fd428",
   "metadata": {},
   "source": [
    "# **C++ in Action** #"
   ]
  },
  {
   "cell_type": "markdown",
   "id": "8cca0888-7da3-45e6-be8b-7bceb7e8d15b",
   "metadata": {},
   "source": [
    "A programmer should know:\n",
    "* C++ and Object Oriented Programming\n",
    "* Top-down design and Top-down implementation techniques\n",
    "* Effective programming with templates and C++ exceptions\n",
    "* Team Work\n",
    "* Should be able to write reliable and maintainable codes that are easy to understand by other members of the team\n",
    "* Should know advanced programming techniques such as synchromization inn a multi-threaded environment, effective use of virtual memory, debugging techniques, etc."
   ]
  },
  {
   "cell_type": "markdown",
   "id": "e48acb8e-c3ca-4fda-b96c-7e41e5108b67",
   "metadata": {},
   "source": [
    "**3 Parts of the Book**\n",
    "1. Language\n",
    " * Teaching C++ like teaching a foreign language by conversation\n",
    " * Avoid the pitfalls of C++ and use the language according to the way it should have been designed\n",
    " * C++ is not only good in performance but also in resource management\n",
    "2. Techniques\n",
    " * Knowlegde about the operating system\n",
    " * Write programs that are small, fast, reliable, robust, and scaleable.\n",
    " * Fast program development\n",
    " * Maintainability and expandability\n",
    " * Transition from 'weekend programmming' to industrial strength programming'\n",
    " * Resourse management\n",
    " * For every resource, at any point in time during the execution of the program, there has to be a well-defined owner responsible for its release\n",
    " * Exception handling\n",
    " * Encapsulation\n",
    " * Multi-tasking\n",
    " * Multiple threads synchronization\n",
    "3. Software Project\n",
    " * Design and implementation of complex software projects\n",
    " * Programming is designing"
   ]
  },
  {
   "cell_type": "markdown",
   "id": "e5e0af1f-6ac4-4b85-b725-815f3f5d6537",
   "metadata": {},
   "source": [
    "## **Part I - Language** ##"
   ]
  },
  {
   "cell_type": "markdown",
   "id": "4b10fa31-a636-4d20-a33e-6b3789dc0c2e",
   "metadata": {},
   "source": [
    "### **Objects and Scopes** ###\n",
    "* Programming is like creating universes\n",
    "* Space-time of the program is described by scopes\n",
    "* An object lives and dies by its scope\n",
    "* Lines of executable code operate within scopes\n",
    "* Scopes provide the structure to program's space and time\n",
    "* Programming is about structure"
   ]
  },
  {
   "cell_type": "markdown",
   "id": "fccfb7a1-9d23-49b2-9f32-159651cb0adb",
   "metadata": {},
   "source": [
    "> #### **Global Scope**<br>\n",
    "Class Definition, Object definition, Constructor, Destructor, Output Stream, Include, Main<br><br>\n",
    ">* Every C++ program is a world in itself.\n",
    ">* The world is a play and we define the characters in that play and let them interact."
   ]
  },
  {
   "cell_type": "code",
   "execution_count": 59,
   "id": "7af6c4f0-b5eb-4887-acbe-02dd0ff9bb44",
   "metadata": {},
   "outputs": [],
   "source": [
    "//Include statement\n",
    "#include <iostream>"
   ]
  },
  {
   "cell_type": "code",
   "execution_count": 60,
   "id": "5ee87e2f-c7f4-420b-86d1-be982a4f03cd",
   "metadata": {},
   "outputs": [],
   "source": [
    "//Class definition\n",
    "class World\n",
    "{\n",
    "public:\n",
    "    World() //Constructor - executed everytime an object of this particular class is created\n",
    "            //Always has the same name as the class itself\n",
    "            //May take arguments inside the parenthesis\n",
    "    {\n",
    "        std::cout << \"Hello!\\n\"; //Statement\n",
    "    }\n",
    "    ~World() //Destructor - excecuted everytime an object of this class is destroyed.\n",
    "            //Same name as class but preceded with tilde(~)\n",
    "            //Never takes an argument\n",
    "    {\n",
    "        std::cout << \"Good bye!\\n\";\n",
    "    }\n",
    "};\n",
    "\n",
    "//A class is like a blueprint for an object"
   ]
  },
  {
   "cell_type": "code",
   "execution_count": 61,
   "id": "1b857c0b-4ee9-440f-ac13-04ca5f1ab05b",
   "metadata": {},
   "outputs": [
    {
     "name": "stdout",
     "output_type": "stream",
     "text": [
      "Hello!\n"
     ]
    }
   ],
   "source": [
    "//Object definition\n",
    "World TheWorld;\n",
    "\n",
    "//Defines the object 'TheWorld' of type 'World'\n",
    "//'TheWorld' is an instance of the class 'World'\n",
    "//Global definition - outside of any curly braces (Global scope)"
   ]
  },
  {
   "cell_type": "code",
   "execution_count": 62,
   "id": "96ea92a5-3047-4e55-ba2b-dc7a659648c9",
   "metadata": {},
   "outputs": [],
   "source": [
    "//Main routine\n",
    "int main()\n",
    "{\n",
    "   return 0; \n",
    "}"
   ]
  },
  {
   "cell_type": "markdown",
   "id": "67db5e7a-4d1e-4030-bdf2-9c5ecbc971e2",
   "metadata": {},
   "source": [
    ">#### **Local Scope**\n",
    "Scope of main, Passing arguments to constructors, integer type, Private data members, initialization, embedded local scopes, the \"for loop\"\n",
    ">* Delimited by braces (not always)\n",
    ">* Local scope is activated when the flow of the program enters it and deactivated when it leaves it\n",
    ">* Objects in local scope is constructed whenever their definition is encountered, and destroyed when the scope is exited.\n",
    ">* Automatic -because they are automatically created and destroyed\n",
    ">* stack objects (occupies mmemory that is allocated on the program's stack"
   ]
  },
  {
   "cell_type": "code",
   "execution_count": 70,
   "id": "6a474a5e-02e3-497a-9677-a556261de150",
   "metadata": {},
   "outputs": [],
   "source": [
    "class World\n",
    "{\n",
    "public:\n",
    "    World(int i)\n",
    "    {\n",
    "        std::cout << \"Hello from \" << i << \".\\n\";\n",
    "    }\n",
    "    \n",
    "    ~World()\n",
    "    {\n",
    "        std::cout << \"Good bye.\\n\";\n",
    "    }\n",
    "};"
   ]
  },
  {
   "cell_type": "code",
   "execution_count": 71,
   "id": "149dd761-af29-4506-8c2b-b920f510225f",
   "metadata": {},
   "outputs": [
    {
     "name": "stdout",
     "output_type": "stream",
     "text": [
      "Hello from 1.\n"
     ]
    }
   ],
   "source": [
    "World TheWorld(1);"
   ]
  },
  {
   "cell_type": "code",
   "execution_count": 72,
   "id": "bf84e038-ad42-4996-a239-ca90bb706881",
   "metadata": {},
   "outputs": [],
   "source": [
    "int main()\n",
    "{\n",
    "    World myWorld(2);\n",
    "    std::cout << \"Hello from main!\\n\";\n",
    "}"
   ]
  },
  {
   "cell_type": "code",
   "execution_count": 73,
   "id": "369ee9b9-e98c-4dc2-8d63-e2f72e597922",
   "metadata": {},
   "outputs": [
    {
     "name": "stdout",
     "output_type": "stream",
     "text": [
      "Hello from 2.\n",
      "Hello from main!\n",
      "Good bye.\n"
     ]
    }
   ],
   "source": [
    "main();"
   ]
  },
  {
   "cell_type": "markdown",
   "id": "559eda06-da27-4345-9b32-b4ba0fe7e3db",
   "metadata": {},
   "source": [
    ">* An object is something that has identity"
   ]
  },
  {
   "cell_type": "code",
   "execution_count": 89,
   "id": "0296b47f-2f3c-4e89-87ca-0f30804b66b4",
   "metadata": {},
   "outputs": [
    {
     "name": "stdout",
     "output_type": "stream",
     "text": [
      "Hello from 1.\n"
     ]
    }
   ],
   "source": [
    "//Giving Objects identity\n",
    "#include <iostream>\n",
    "\n",
    "class World\n",
    "{\n",
    "public:\n",
    "    World(int id)\n",
    "        : _identifier(id) //preamble - used to initialize a const data member\n",
    "                            //names of private data members starts with an underscore\n",
    "        {\n",
    "            std::cout << \"Hello from \" << _identifier << \".\\n\";\n",
    "        }\n",
    "    ~World()\n",
    "    {\n",
    "        std::cout << \"Good bye from \" << _identifier << \"\\n\";\n",
    "    }\n",
    "private:\n",
    "    const int _identifier; //Data hiding\n",
    "                            //The compiler make sure that nobody, except the 'World' itself, has access to private members\n",
    "                            //Nobody can change the value of _identifier during the lifetime of the object.\n",
    "};\n",
    "\n",
    "World TheWorld(1);"
   ]
  },
  {
   "cell_type": "code",
   "execution_count": 88,
   "id": "69d25068-752b-452f-88e1-fcdc52d21cbf",
   "metadata": {},
   "outputs": [],
   "source": [
    "int main()\n",
    "{\n",
    "    World myWorld(2);\n",
    "    for(int i = 3; i < 6; ++i) //scope of the variables defined in the header are initialized once at loop entry\n",
    "    {\n",
    "        World aWorld(i); //variables defined in the body of the loop are re-initialized on every iteration.\n",
    "    } // neither of the variables inside the loop are accessible once you exit the loop\n",
    "    World oneMoreWorld(6);\n",
    "    return 0;\n",
    "}"
   ]
  },
  {
   "cell_type": "code",
   "execution_count": 84,
   "id": "7c652aa3-b4ab-4732-9f12-afccc0f3b87d",
   "metadata": {},
   "outputs": [],
   "source": [
    "int main()\n",
    "{\n",
    "    World myWorld(2);\n",
    "    for(int i = 3; i < 6; ++i)\n",
    "        World aWorld(i); //A scope without braces\n",
    "    World oneMoreWorld(6);\n",
    "    return 0;\n",
    "}"
   ]
  },
  {
   "cell_type": "code",
   "execution_count": 87,
   "id": "8d914fcc-006c-4b42-8675-7062590e6f0e",
   "metadata": {},
   "outputs": [
    {
     "name": "stdout",
     "output_type": "stream",
     "text": [
      "Hello from 2.\n",
      "Hello from 3.\n",
      "Good bye from 3\n",
      "Hello from 4.\n",
      "Good bye from 4\n",
      "Hello from 5.\n",
      "Good bye from 5\n",
      "Hello from 6.\n",
      "Good bye from 6\n",
      "Good bye from 2\n"
     ]
    }
   ],
   "source": [
    "main();"
   ]
  },
  {
   "cell_type": "markdown",
   "id": "e25a6df7-8e61-4c88-9c86-ec51e1b014a4",
   "metadata": {},
   "source": [
    ">#### **Embedded Objects**\n",
    "Embeddings, initialization of embeddings, order of construction/destruction\n",
    ">* C++ makes virtually no distinction between built in types and the ones defined by the programmer\n",
    ">* embedded objects - when a data member of some class is of a user defined type\n",
    ">* 'World' contains 'Matter'"
   ]
  },
  {
   "cell_type": "code",
   "execution_count": 98,
   "id": "9ce89a7b-f8e3-43ef-b76a-be7216e23d58",
   "metadata": {},
   "outputs": [],
   "source": [
    "#include <iostream>"
   ]
  },
  {
   "cell_type": "code",
   "execution_count": 127,
   "id": "ad334159-4702-435a-8c12-ed03f8192707",
   "metadata": {},
   "outputs": [],
   "source": [
    "class Matter\n",
    "{\n",
    "public:\n",
    "    Matter(int id)\n",
    "        : _identifier(id)\n",
    "    {\n",
    "        std::cout << \"Matter for \" << _identifier << \" created\" << std::endl;\n",
    "    }\n",
    "    ~Matter()\n",
    "    {\n",
    "        std::cout << \"Matter in \" << _identifier << \" annihilated\" << std::endl;\n",
    "    }\n",
    "private:\n",
    "    const int _identifier;\n",
    "};"
   ]
  },
  {
   "cell_type": "code",
   "execution_count": 128,
   "id": "1caf4f8c-9e85-48be-9920-9504a7016bef",
   "metadata": {},
   "outputs": [],
   "source": [
    "class World\n",
    "{\n",
    "public:\n",
    "    World(int id)\n",
    "        : _identifier(id), _matter(_identifier) //initializing embeddings\n",
    "    {\n",
    "        std::cout << \"Hello from world \" << _identifier << std::endl;\n",
    "    }\n",
    "    ~World()\n",
    "    {\n",
    "        std::cout << \"Good bye from world \" << _identifier << std::endl;\n",
    "    }\n",
    "private:\n",
    "    const int _identifier;\n",
    "    const Matter _matter; //Embedded object of type Matter\n",
    "};"
   ]
  },
  {
   "cell_type": "code",
   "execution_count": 123,
   "id": "2e47fb80-a043-46dd-8fc3-1f648ab81155",
   "metadata": {},
   "outputs": [
    {
     "name": "stderr",
     "output_type": "stream",
     "text": [
      "\u001b[1minput_line_157:5:19: \u001b[0m\u001b[0;1;35mwarning: \u001b[0m\u001b[1mfield '_identifier' is uninitialized when used here [-Wuninitialized]\u001b[0m\n",
      "        : _matter(_identifier), _identifier(id) //initializing embeddings\n",
      "\u001b[0;1;32m                  ^\n",
      "\u001b[0m"
     ]
    }
   ],
   "source": [
    "class World\n",
    "{\n",
    "public:\n",
    "    World(int id)\n",
    "        : _matter(_identifier), _identifier(id) //initializing embeddings\n",
    "                                                //order in the preamble has no bearing\n",
    "    {\n",
    "        std::cout << \"Hello from world \" << _identifier << std::endl;\n",
    "    }\n",
    "    ~World()\n",
    "    {\n",
    "        std::cout << \"Good bye from world \" << _identifier << std::endl;\n",
    "    }\n",
    "private:\n",
    "    const Matter _matter; //Embedded object of type Matter\n",
    "    const int _identifier;\n",
    "    // Data members are initialized in the order in which they appear in the class definition    \n",
    "};"
   ]
  },
  {
   "cell_type": "code",
   "execution_count": 129,
   "id": "973383de-dfbc-4f6b-acd6-343d4181a514",
   "metadata": {},
   "outputs": [
    {
     "name": "stdout",
     "output_type": "stream",
     "text": [
      "Matter for 1 created\n",
      "Hello from world 1\n"
     ]
    }
   ],
   "source": [
    "World TheUniverse(1);"
   ]
  },
  {
   "cell_type": "code",
   "execution_count": 130,
   "id": "619e885e-bdf2-487f-a93b-3a1029a0984e",
   "metadata": {},
   "outputs": [],
   "source": [
    "int main()\n",
    "{\n",
    "    World myWorld(2);\n",
    "}"
   ]
  },
  {
   "cell_type": "code",
   "execution_count": 131,
   "id": "061ae709-5d39-476b-8cc2-f06d023b011f",
   "metadata": {},
   "outputs": [
    {
     "name": "stdout",
     "output_type": "stream",
     "text": [
      "Matter for 2 created\n",
      "Hello from world 2\n",
      "Good bye from world 2\n",
      "Matter in 2 annihilated\n"
     ]
    }
   ],
   "source": [
    "main();"
   ]
  },
  {
   "cell_type": "markdown",
   "id": "561f75dc-e9f0-40c2-a2a2-81e49bd6ef4d",
   "metadata": {},
   "source": [
    ">* The object that was constructed first will be destroyed last."
   ]
  },
  {
   "cell_type": "markdown",
   "id": "6fc00ed0-def7-4fef-be6c-01a382934b24",
   "metadata": {},
   "source": [
    ">#### **Inheritance**\n",
    "Public Inheritance, initialization of the base class, order of construction/destruction, type double\n",
    ">* \"Is-a\" relationship"
   ]
  },
  {
   "cell_type": "code",
   "execution_count": 1,
   "id": "850a1a6b-9076-435a-bd91-c479bd48c9ee",
   "metadata": {},
   "outputs": [],
   "source": [
    "#include <iostream>"
   ]
  },
  {
   "cell_type": "code",
   "execution_count": 3,
   "id": "b3ac8eb7-ef45-414b-ab30-8fa321de60ae",
   "metadata": {},
   "outputs": [],
   "source": [
    "class CelestialBody\n",
    "{\n",
    "public:\n",
    "    CelestialBody(double mass)\n",
    "        : _mass(mass)\n",
    "    {\n",
    "        std::cout << \"Creating celestial body of mass \" << _mass << std::endl;\n",
    "    }\n",
    "    \n",
    "    ~CelestialBody()\n",
    "    {\n",
    "        std::cout << \"Destroying celestial body of mass \" << _mass << std::endl;\n",
    "    }\n",
    "private:\n",
    "    const double _mass;\n",
    "};"
   ]
  },
  {
   "cell_type": "code",
   "execution_count": 4,
   "id": "a4ad7023-50c5-4462-a62a-03d5a83d8f75",
   "metadata": {},
   "outputs": [],
   "source": [
    "class Star: public CelestialBody //Star is a CelestialBody - Star iherits everything from CelestialBody\n",
    "{\n",
    "public:\n",
    "    Star(double mass, double brightness)\n",
    "        : CelestialBody(mass), _brightness(brightness)\n",
    "    {\n",
    "        std::cout << \"Creating a star of brightness \" << _brightness << std::endl;\n",
    "    }\n",
    "    \n",
    "    ~Star()\n",
    "    {\n",
    "        std::cout << \"Destroying a star of brightness \" << _brightness << std::endl;\n",
    "    }\n",
    "private:\n",
    "    const double _brightness;\n",
    "};\n",
    "    "
   ]
  },
  {
   "cell_type": "code",
   "execution_count": 5,
   "id": "f9aba543-417d-44a9-a2f3-d8070326d1ad",
   "metadata": {},
   "outputs": [],
   "source": [
    "int main()\n",
    "{\n",
    "    std::cout << \"    Entering main.\" << std::endl;\n",
    "    Star aStar(1234.5, 0.1);\n",
    "    std::cout << \"    Exiting main.\" << std::endl;\n",
    "}"
   ]
  },
  {
   "cell_type": "code",
   "execution_count": 6,
   "id": "0b3557fb-821f-416a-84b2-fb242fd28531",
   "metadata": {},
   "outputs": [
    {
     "name": "stdout",
     "output_type": "stream",
     "text": [
      "    Entering main.\n",
      "Creating celestial body of mass 1234.5\n",
      "Creating a star of brightness 0.1\n",
      "    Exiting main.\n",
      "Destroying a star of brightness 0.1\n",
      "Destroying celestial body of mass 1234.5\n"
     ]
    }
   ],
   "source": [
    "main();"
   ]
  },
  {
   "cell_type": "markdown",
   "id": "48748963-4127-49d2-9adb-4b8b2714ac37",
   "metadata": {},
   "source": [
    ">* First, the base class is fully constructed then the derived class."
   ]
  },
  {
   "cell_type": "markdown",
   "id": "4be0fdf3-d9d1-4362-a2a0-f9dc6d946218",
   "metadata": {},
   "source": [
    ">#### **Member Functions and Interfaces**\n",
    "Input stream, member functions(methods), return values, interfaces, functions returning void\n",
    ">* Behavior is exposed via member functions, also called **methods**."
   ]
  },
  {
   "cell_type": "code",
   "execution_count": 5,
   "id": "cdb7a086-69d9-44a4-b211-0aa92cf37db3",
   "metadata": {},
   "outputs": [],
   "source": [
    "#include <iostream>"
   ]
  },
  {
   "cell_type": "code",
   "execution_count": 6,
   "id": "0121cdde-e229-44ab-9f47-208235657f01",
   "metadata": {},
   "outputs": [],
   "source": [
    "class InputNum\n",
    "{\n",
    "public:\n",
    "    InputNum()\n",
    "    {\n",
    "        std::cout << \"Enter number \";\n",
    "        std::cin >> _num;\n",
    "    }\n",
    "    \n",
    "    int GetValue() const\n",
    "    {\n",
    "        return _num;\n",
    "    }\n",
    "    \n",
    "private:\n",
    "    int _num;\n",
    "};"
   ]
  },
  {
   "cell_type": "code",
   "execution_count": 7,
   "id": "52a9dc85-ac2b-46b3-a8f7-7264bba70276",
   "metadata": {},
   "outputs": [],
   "source": [
    "int main()\n",
    "{\n",
    "    InputNum num;\n",
    "    std::cout << \"The value is \" << num.GetValue() << std::endl;\n",
    "    return 0;\n",
    "}"
   ]
  },
  {
   "cell_type": "code",
   "execution_count": 8,
   "id": "d1c04528-91bd-416d-8927-f7419cbc391f",
   "metadata": {
    "tags": []
   },
   "outputs": [
    {
     "name": "stdout",
     "output_type": "stream",
     "text": [
      "Enter number "
     ]
    },
    {
     "name": "stdin",
     "output_type": "stream",
     "text": [
      " 2\n"
     ]
    },
    {
     "name": "stdout",
     "output_type": "stream",
     "text": [
      "The value is 2\n"
     ]
    }
   ],
   "source": [
    "main();"
   ]
  },
  {
   "cell_type": "markdown",
   "id": "39892574-722b-4a10-85f4-5d11421e4eb7",
   "metadata": {},
   "source": [
    ">* The type of the return value is always specified in front of the member function definition (or declaration).\n",
    ">* A method that is supposed to return something must have a return statement at the end.\n",
    ">* main function always returns an integer (0 for successful execution otherwise, an error level."
   ]
  },
  {
   "cell_type": "code",
   "execution_count": null,
   "id": "a72b28bc-f2da-4a24-8946-36771048c2ce",
   "metadata": {},
   "outputs": [],
   "source": [
    "int GetValue() const"
   ]
  },
  {
   "cell_type": "markdown",
   "id": "387b6c9e-9bf0-4e04-9ab7-6a52e25fa20d",
   "metadata": {},
   "source": [
    ">* means this method does not change the state of the object."
   ]
  },
  {
   "cell_type": "markdown",
   "id": "992001d0-e453-4967-bac6-deba99becd7d",
   "metadata": {},
   "source": [
    "### **Arrays and References** ###\n",
    "* An onject is identified by its name\n",
    "* The power to give an object different names in different scopes provides an additional level of indirection\n",
    "* Every problem can be solved by adding a level of indirection\n",
    "* Indirection can ba accomplished by using a reference (alias, alternative name) that can be attached to a different object everytime it enters a scope.\n",
    "* The power of iteration (and conformity)"
   ]
  },
  {
   "cell_type": "markdown",
   "id": "87fcf218-c35c-49cb-bc23-ec2508dca42b",
   "metadata": {},
   "source": [
    "### **Pointers** ###\n",
    "* Using pointers, we can have the same name refer to different objects -- a mutable reference\n",
    "* Give us the power to create complex data structures"
   ]
  },
  {
   "cell_type": "markdown",
   "id": "16b6c41e-7cec-4661-a08f-c2ebd1cbf48e",
   "metadata": {},
   "source": [
    "### **Polymorphism** ###\n",
    "* multi-shaped"
   ]
  },
  {
   "cell_type": "markdown",
   "id": "7215d174-a99e-47f7-8948-9b0e45a8f7e5",
   "metadata": {},
   "source": [
    "### **Small Software Project** ###\n",
    "* \"How can I use a particular language feature?\"\n",
    "* \"What language feature will help me solve my problem?\""
   ]
  }
 ],
 "metadata": {
  "kernelspec": {
   "display_name": "C++17",
   "language": "C++17",
   "name": "xcpp17"
  },
  "language_info": {
   "codemirror_mode": "text/x-c++src",
   "file_extension": ".cpp",
   "mimetype": "text/x-c++src",
   "name": "c++",
   "version": "17"
  }
 },
 "nbformat": 4,
 "nbformat_minor": 5
}
